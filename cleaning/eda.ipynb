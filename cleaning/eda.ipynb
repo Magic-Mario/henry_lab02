{
 "cells": [
  {
   "cell_type": "code",
   "execution_count": null,
   "metadata": {
    "tags": []
   },
   "outputs": [],
   "source": [
    "import pandas as pd\n",
    "import numpy as np "
   ]
  },
  {
   "cell_type": "markdown",
   "metadata": {},
   "source": [
    "### Data"
   ]
  },
  {
   "cell_type": "code",
   "execution_count": null,
   "metadata": {
    "tags": []
   },
   "outputs": [],
   "source": [
    "from dotenv import load_dotenv\n",
    "import os\n",
    "\n",
    "# reemplaza esto con la ruta completa del archivo .env\n",
    "\n",
    "load_dotenv(dotenv_path=\".env\")\n",
    "\n",
    "my_var = os.environ.get(\"AUTH_API\")"
   ]
  },
  {
   "cell_type": "code",
   "execution_count": null,
   "metadata": {
    "tags": []
   },
   "outputs": [],
   "source": [
    "import requests\n",
    "\n",
    "\n",
    "url_internet_provincia = f\"http://api.datosabiertos.enacom.gob.ar/api/v2/datastreams/ACCES-A-INTER-FIJO-POR/data.ajson/?auth_key={my_var}&limit=265\"\n",
    "\n",
    "response = requests.get(url_internet_provincia)\n",
    "\n",
    "if response.status_code == 200:\n",
    "    data = response.json()\n",
    "else:\n",
    "    print(\"Error en la petición:\", response.status_code)\n"
   ]
  },
  {
   "cell_type": "code",
   "execution_count": null,
   "metadata": {
    "tags": []
   },
   "outputs": [],
   "source": [
    "display(data['result'][0])\n",
    "display(data['result'][:])"
   ]
  },
  {
   "cell_type": "code",
   "execution_count": 5,
   "metadata": {},
   "outputs": [],
   "source": [
    "df_internet_provincia = pd.DataFrame(data['result'][1:], columns=data['result'][0])"
   ]
  },
  {
   "cell_type": "code",
   "execution_count": 6,
   "metadata": {},
   "outputs": [
    {
     "data": {
      "text/html": [
       "<div>\n",
       "<style scoped>\n",
       "    .dataframe tbody tr th:only-of-type {\n",
       "        vertical-align: middle;\n",
       "    }\n",
       "\n",
       "    .dataframe tbody tr th {\n",
       "        vertical-align: top;\n",
       "    }\n",
       "\n",
       "    .dataframe thead th {\n",
       "        text-align: right;\n",
       "    }\n",
       "</style>\n",
       "<table border=\"1\" class=\"dataframe\">\n",
       "  <thead>\n",
       "    <tr style=\"text-align: right;\">\n",
       "      <th></th>\n",
       "      <th>Año</th>\n",
       "      <th>Trimestre</th>\n",
       "      <th>Provincia</th>\n",
       "      <th>ADSL</th>\n",
       "      <th>Cablemodem</th>\n",
       "      <th>Fibra óptica</th>\n",
       "      <th>Wireless</th>\n",
       "      <th>Otros</th>\n",
       "      <th>Total</th>\n",
       "    </tr>\n",
       "  </thead>\n",
       "  <tbody>\n",
       "    <tr>\n",
       "      <th>259</th>\n",
       "      <td>2020</td>\n",
       "      <td>1</td>\n",
       "      <td>Santa Cruz</td>\n",
       "      <td>12,845</td>\n",
       "      <td>15,766</td>\n",
       "      <td>1,026</td>\n",
       "      <td>6,817</td>\n",
       "      <td>2,368</td>\n",
       "      <td>38,822</td>\n",
       "    </tr>\n",
       "    <tr>\n",
       "      <th>260</th>\n",
       "      <td>2020</td>\n",
       "      <td>1</td>\n",
       "      <td>Santa Fe</td>\n",
       "      <td>302,366</td>\n",
       "      <td>383,673</td>\n",
       "      <td>35,123</td>\n",
       "      <td>30,488</td>\n",
       "      <td>19,468</td>\n",
       "      <td>771,118</td>\n",
       "    </tr>\n",
       "    <tr>\n",
       "      <th>261</th>\n",
       "      <td>2020</td>\n",
       "      <td>1</td>\n",
       "      <td>Santiago Del Estero</td>\n",
       "      <td>24,695</td>\n",
       "      <td>70,424</td>\n",
       "      <td>200</td>\n",
       "      <td>2,779</td>\n",
       "      <td>4,657</td>\n",
       "      <td>102,755</td>\n",
       "    </tr>\n",
       "    <tr>\n",
       "      <th>262</th>\n",
       "      <td>2020</td>\n",
       "      <td>1</td>\n",
       "      <td>Tierra Del Fuego</td>\n",
       "      <td>12,854</td>\n",
       "      <td>25,632</td>\n",
       "      <td>0</td>\n",
       "      <td>0</td>\n",
       "      <td>308</td>\n",
       "      <td>38,794</td>\n",
       "    </tr>\n",
       "    <tr>\n",
       "      <th>263</th>\n",
       "      <td>2020</td>\n",
       "      <td>1</td>\n",
       "      <td>Tucumán</td>\n",
       "      <td>143,184</td>\n",
       "      <td>10,494</td>\n",
       "      <td>44,687</td>\n",
       "      <td>1,355</td>\n",
       "      <td>347</td>\n",
       "      <td>200,067</td>\n",
       "    </tr>\n",
       "  </tbody>\n",
       "</table>\n",
       "</div>"
      ],
      "text/plain": [
       "      Año Trimestre            Provincia     ADSL Cablemodem Fibra óptica   \n",
       "259  2020         1           Santa Cruz   12,845     15,766        1,026  \\\n",
       "260  2020         1             Santa Fe  302,366    383,673       35,123   \n",
       "261  2020         1  Santiago Del Estero   24,695     70,424          200   \n",
       "262  2020         1     Tierra Del Fuego   12,854     25,632            0   \n",
       "263  2020         1              Tucumán  143,184     10,494       44,687   \n",
       "\n",
       "    Wireless   Otros    Total  \n",
       "259    6,817   2,368   38,822  \n",
       "260   30,488  19,468  771,118  \n",
       "261    2,779   4,657  102,755  \n",
       "262        0     308   38,794  \n",
       "263    1,355     347  200,067  "
      ]
     },
     "execution_count": 6,
     "metadata": {},
     "output_type": "execute_result"
    }
   ],
   "source": [
    "df_internet_provincia.tail()"
   ]
  },
  {
   "cell_type": "code",
   "execution_count": 7,
   "metadata": {},
   "outputs": [
    {
     "name": "stdout",
     "output_type": "stream",
     "text": [
      "<class 'pandas.core.frame.DataFrame'>\n",
      "RangeIndex: 264 entries, 0 to 263\n",
      "Data columns (total 9 columns):\n",
      " #   Column        Non-Null Count  Dtype \n",
      "---  ------        --------------  ----- \n",
      " 0   Año           264 non-null    object\n",
      " 1   Trimestre     264 non-null    object\n",
      " 2   Provincia     264 non-null    object\n",
      " 3   ADSL          264 non-null    object\n",
      " 4   Cablemodem    264 non-null    object\n",
      " 5   Fibra óptica  264 non-null    object\n",
      " 6   Wireless      264 non-null    object\n",
      " 7   Otros         264 non-null    object\n",
      " 8   Total         264 non-null    object\n",
      "dtypes: object(9)\n",
      "memory usage: 18.7+ KB\n"
     ]
    }
   ],
   "source": [
    "df_internet_provincia.info()"
   ]
  },
  {
   "attachments": {},
   "cell_type": "markdown",
   "metadata": {},
   "source": [
    "Convertir los dtypes de las columnas a como corresponde"
   ]
  },
  {
   "cell_type": "code",
   "execution_count": 10,
   "metadata": {},
   "outputs": [],
   "source": [
    "df_internet_provincia = df_internet_provincia.applymap(lambda x: x.replace(',', '') if isinstance(x, str) else x)"
   ]
  },
  {
   "cell_type": "code",
   "execution_count": 13,
   "metadata": {},
   "outputs": [
    {
     "data": {
      "text/html": [
       "<div>\n",
       "<style scoped>\n",
       "    .dataframe tbody tr th:only-of-type {\n",
       "        vertical-align: middle;\n",
       "    }\n",
       "\n",
       "    .dataframe tbody tr th {\n",
       "        vertical-align: top;\n",
       "    }\n",
       "\n",
       "    .dataframe thead th {\n",
       "        text-align: right;\n",
       "    }\n",
       "</style>\n",
       "<table border=\"1\" class=\"dataframe\">\n",
       "  <thead>\n",
       "    <tr style=\"text-align: right;\">\n",
       "      <th></th>\n",
       "      <th>Año</th>\n",
       "      <th>Trimestre</th>\n",
       "      <th>Provincia</th>\n",
       "      <th>ADSL</th>\n",
       "      <th>Cablemodem</th>\n",
       "      <th>Fibra óptica</th>\n",
       "      <th>Wireless</th>\n",
       "      <th>Otros</th>\n",
       "      <th>Total</th>\n",
       "    </tr>\n",
       "  </thead>\n",
       "  <tbody>\n",
       "    <tr>\n",
       "      <th>259</th>\n",
       "      <td>2020</td>\n",
       "      <td>1</td>\n",
       "      <td>Santa Cruz</td>\n",
       "      <td>12845</td>\n",
       "      <td>15766</td>\n",
       "      <td>1026</td>\n",
       "      <td>6817</td>\n",
       "      <td>2368</td>\n",
       "      <td>38822</td>\n",
       "    </tr>\n",
       "    <tr>\n",
       "      <th>260</th>\n",
       "      <td>2020</td>\n",
       "      <td>1</td>\n",
       "      <td>Santa Fe</td>\n",
       "      <td>302366</td>\n",
       "      <td>383673</td>\n",
       "      <td>35123</td>\n",
       "      <td>30488</td>\n",
       "      <td>19468</td>\n",
       "      <td>771118</td>\n",
       "    </tr>\n",
       "    <tr>\n",
       "      <th>261</th>\n",
       "      <td>2020</td>\n",
       "      <td>1</td>\n",
       "      <td>Santiago Del Estero</td>\n",
       "      <td>24695</td>\n",
       "      <td>70424</td>\n",
       "      <td>200</td>\n",
       "      <td>2779</td>\n",
       "      <td>4657</td>\n",
       "      <td>102755</td>\n",
       "    </tr>\n",
       "    <tr>\n",
       "      <th>262</th>\n",
       "      <td>2020</td>\n",
       "      <td>1</td>\n",
       "      <td>Tierra Del Fuego</td>\n",
       "      <td>12854</td>\n",
       "      <td>25632</td>\n",
       "      <td>0</td>\n",
       "      <td>0</td>\n",
       "      <td>308</td>\n",
       "      <td>38794</td>\n",
       "    </tr>\n",
       "    <tr>\n",
       "      <th>263</th>\n",
       "      <td>2020</td>\n",
       "      <td>1</td>\n",
       "      <td>Tucumán</td>\n",
       "      <td>143184</td>\n",
       "      <td>10494</td>\n",
       "      <td>44687</td>\n",
       "      <td>1355</td>\n",
       "      <td>347</td>\n",
       "      <td>200067</td>\n",
       "    </tr>\n",
       "  </tbody>\n",
       "</table>\n",
       "</div>"
      ],
      "text/plain": [
       "      Año Trimestre            Provincia    ADSL Cablemodem Fibra óptica   \n",
       "259  2020         1           Santa Cruz   12845      15766         1026  \\\n",
       "260  2020         1             Santa Fe  302366     383673        35123   \n",
       "261  2020         1  Santiago Del Estero   24695      70424          200   \n",
       "262  2020         1     Tierra Del Fuego   12854      25632            0   \n",
       "263  2020         1              Tucumán  143184      10494        44687   \n",
       "\n",
       "    Wireless  Otros   Total  \n",
       "259     6817   2368   38822  \n",
       "260    30488  19468  771118  \n",
       "261     2779   4657  102755  \n",
       "262        0    308   38794  \n",
       "263     1355    347  200067  "
      ]
     },
     "execution_count": 13,
     "metadata": {},
     "output_type": "execute_result"
    }
   ],
   "source": [
    "df_internet_provincia.tail()"
   ]
  },
  {
   "cell_type": "code",
   "execution_count": 14,
   "metadata": {},
   "outputs": [],
   "source": [
    "df_internet_provincia[['Año', 'Trimestre','ADSL', 'Cablemodem', 'Fibra óptica',\n",
    "       'Wireless', 'Otros', 'Total']] = df_internet_provincia[['Año', 'Trimestre','ADSL', 'Cablemodem', 'Fibra óptica',\n",
    "       'Wireless', 'Otros', 'Total']].astype(int)"
   ]
  },
  {
   "cell_type": "code",
   "execution_count": 15,
   "metadata": {},
   "outputs": [
    {
     "name": "stdout",
     "output_type": "stream",
     "text": [
      "<class 'pandas.core.frame.DataFrame'>\n",
      "RangeIndex: 264 entries, 0 to 263\n",
      "Data columns (total 9 columns):\n",
      " #   Column        Non-Null Count  Dtype \n",
      "---  ------        --------------  ----- \n",
      " 0   Año           264 non-null    int32 \n",
      " 1   Trimestre     264 non-null    int32 \n",
      " 2   Provincia     264 non-null    object\n",
      " 3   ADSL          264 non-null    int32 \n",
      " 4   Cablemodem    264 non-null    int32 \n",
      " 5   Fibra óptica  264 non-null    int32 \n",
      " 6   Wireless      264 non-null    int32 \n",
      " 7   Otros         264 non-null    int32 \n",
      " 8   Total         264 non-null    int32 \n",
      "dtypes: int32(8), object(1)\n",
      "memory usage: 10.4+ KB\n"
     ]
    }
   ],
   "source": [
    "df_internet_provincia.info()"
   ]
  },
  {
   "cell_type": "code",
   "execution_count": null,
   "metadata": {},
   "outputs": [],
   "source": []
  }
 ],
 "metadata": {
  "kernelspec": {
   "display_name": "Python 3 (ipykernel)",
   "language": "python",
   "name": "python3"
  },
  "language_info": {
   "codemirror_mode": {
    "name": "ipython",
    "version": 3
   },
   "file_extension": ".py",
   "mimetype": "text/x-python",
   "name": "python",
   "nbconvert_exporter": "python",
   "pygments_lexer": "ipython3",
   "version": "3.9.13"
  }
 },
 "nbformat": 4,
 "nbformat_minor": 4
}
